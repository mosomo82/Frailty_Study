{
  "nbformat": 4,
  "nbformat_minor": 0,
  "metadata": {
    "colab": {
      "provenance": []
    },
    "kernelspec": {
      "name": "python3",
      "display_name": "Python 3"
    },
    "language_info": {
      "name": "python"
    }
  },
  "cells": [
    {
      "cell_type": "markdown",
      "source": [
        "Read the dataset (Frailty dataset) from Github for the Assignment#1"
      ],
      "metadata": {
        "id": "ulD7VjIMMluX"
      }
    },
    {
      "cell_type": "code",
      "execution_count": 70,
      "metadata": {
        "colab": {
          "base_uri": "https://localhost:8080/"
        },
        "id": "UUpIYSK8-dhf",
        "outputId": "23f7450f-0bcd-425f-e4d0-76a706d6bdcf"
      },
      "outputs": [
        {
          "output_type": "stream",
          "name": "stdout",
          "text": [
            "--- Stage 1: Ingest Complete--- \n",
            "   Height  Weight  Age  Grip strength Frailty\n",
            "0    65.8     112   30             30       N\n",
            "1    71.5     136   19             31       N\n",
            "2    69.4     153   45             29       N\n",
            "3    68.2     142   22             28       Y\n",
            "4    67.8     144   29             24       Y\n",
            "\n",
            "========================================\n",
            "\n"
          ]
        }
      ],
      "source": [
        "import pandas as pd\n",
        "import numpy as np\n",
        "\n",
        "# Stage 1: Ingest\n",
        "# This stage involes reading and loading the raw data from CSV file in Github\n",
        "# into a DataFrame\n",
        "df = pd.read_csv('https://raw.githubusercontent.com/mosomo82/Frailty_Study/refs/heads/main/raw_data/raw_data.csv')\n",
        "print(\"--- Stage 1: Ingest Complete--- \")\n",
        "print(df.head())\n",
        "print(\"\\n\" + \"=\"*40 + \"\\n\")"
      ]
    },
    {
      "cell_type": "markdown",
      "source": [
        "Preprocessing Data from raw dataset"
      ],
      "metadata": {
        "id": "MQnVIah5Hd8l"
      }
    },
    {
      "cell_type": "code",
      "source": [
        "# Stage 2: Process\n",
        "#This stage involves cleaning, transforming, and enriching the data.\n",
        "print(\"--- Stage 2: Process Initiated ---\")\n",
        "\n",
        "# Check for missing values\n",
        "missing_values = df.isnull().sum()\n",
        "if missing_values.any():\n",
        "  print(\"Missing values found in the dataset.\")\n",
        "  print(missing_values)\n",
        "  # since the dataset is generall clean and sample dataset size is not large enough, I will not drop any rows with missing values\n",
        "  df.dropna(inplace=False)\n",
        "else:\n",
        "  print(\"No missing values found in the dataset.\")\n",
        "\n",
        "# Format the column name for professionalism, clarity and consistency\n",
        "df.columns = df.columns.str.replace(' ', '_')\n",
        "df.columns = df.columns.str.capitalize()\n",
        "df.rename(columns={'Height': 'Height_in', 'Weight': 'Weight_lb', 'Age': 'Age_yr', 'Grip_strength': 'Grip_strength_kg'}, inplace=True)\n",
        "\n",
        "# Output to CSV file as clean data\n",
        "df.to_csv('clean_data.csv', index=False)\n",
        "\n"
      ],
      "metadata": {
        "id": "SMw548XOHh78",
        "colab": {
          "base_uri": "https://localhost:8080/"
        },
        "outputId": "e0310e57-b2a0-4fcb-db10-3c83112fe7c9"
      },
      "execution_count": 71,
      "outputs": [
        {
          "output_type": "stream",
          "name": "stdout",
          "text": [
            "--- Stage 2: Process Initiated ---\n",
            "No missing values found in the dataset.\n"
          ]
        }
      ]
    },
    {
      "cell_type": "markdown",
      "source": [
        "a) Unit standardization\n",
        "      i.\tHeight_m = Height_in * 0.0254\n",
        "      ii.\tWeight_kg = Weight_lb * 0.45359237\n"
      ],
      "metadata": {
        "id": "OfqNJaVwO8M2"
      }
    },
    {
      "cell_type": "code",
      "source": [
        "# a. Unit standadization\n",
        "# i. Convert Height from inches to meters (1 inch = 0.0254 meters) and round up\n",
        "# to 2 decimal.\n",
        "height_m = df['Height_in'] * 0.0254\n",
        "df['Height_m'] = height_m.round(2)\n",
        "# ii. Convert Height from inches to meters (1 inch = 0.0254 meters) and round up to 2 decimal.\n",
        "weight_kg = df['Weight_lb'] * 0.45359237\n",
        "df['Weight_kg'] = weight_kg.round(2)\n"
      ],
      "metadata": {
        "id": "G5MLBEFIMTTh"
      },
      "execution_count": 72,
      "outputs": []
    },
    {
      "cell_type": "markdown",
      "source": [
        "b) Feature engineering\n",
        "      i. BMI = Weight_kg / (Height_m ** 2) (round to 2 decimals).\n",
        "      ii. AgeGroup (categorical): \"<30\", \"30–45\", \"46–60\", \">60\" based on Age_yr\n"
      ],
      "metadata": {
        "id": "ze92kSF2Mh4u"
      }
    },
    {
      "cell_type": "code",
      "source": [
        "# b. Feature Engineering\n",
        "# i. Calculate Body Mass Index (BMI) and round it to two decimal places\n",
        "df['BMI'] = round(df['Weight_kg'] / (df['Height_m'] ** 2), 2)\n",
        "\n",
        "# ii. Create a categorical 'Age_group' feature based on 'Age_yr'\n",
        "# Define the bins and labels for the age groups\n",
        "bins = [0, 29, 45, 60, np.inf]\n",
        "labels = ['<30', '30-45', '46-60', '>60']\n",
        "AgeGroup = pd.cut(df['Age_yr'], bins=bins, labels=labels, right=True)\n",
        "df['Age_group'] = AgeGroup"
      ],
      "metadata": {
        "id": "A_KnXI7aW2Qk"
      },
      "execution_count": 73,
      "outputs": []
    },
    {
      "cell_type": "markdown",
      "source": [
        "c) Categorical → numeric encoding\n",
        "i. Binary encoding: Frailty_binary (Y→1, N→0, store as int8).\n",
        "ii. One‑hot encode AgeGroup into columns: AgeGroup_<30, AgeGroup_30–45,\n",
        "AgeGroup_46–60, AgeGroup_>60"
      ],
      "metadata": {
        "id": "WE_JLT8XZ7RL"
      }
    },
    {
      "cell_type": "code",
      "source": [
        "# c. Categorical to numeric encoding\n",
        "# i. Binary encoding for Frailty_binary\n",
        "df['Frailty_binary'] = df['Frailty'].map({'Y': 1, 'N': 0}).astype('int8')\n",
        "\n",
        "# One-hot encode AgeGroup into column\n",
        "df = pd.get_dummies(df, columns=['Age_group'], prefix='Age_group')\n",
        "\n",
        "print(\"--- Stage 2: Process Complete--- \")\n",
        "# Display the head of the encoded DataFrame\n",
        "print(\"Final Processed DataFrame: \")\n",
        "print(df.head())\n",
        "print(\"\\n\" + \"=\"*40 + \"\\n\")\n",
        "\n",
        "# Output the final processed data into CSV file\n",
        "df.to_csv('process_data.csv')"
      ],
      "metadata": {
        "id": "Gfe15BWvZ63Q",
        "colab": {
          "base_uri": "https://localhost:8080/"
        },
        "outputId": "5a7b6cec-212e-470d-953c-fa0dbf0f0dd6"
      },
      "execution_count": 74,
      "outputs": [
        {
          "output_type": "stream",
          "name": "stdout",
          "text": [
            "--- Stage 2: Process Complete--- \n",
            "Final Processed DataFrame: \n",
            "   Height_in  Weight_lb  Age_yr  Grip_strength_kg Frailty  Height_m  \\\n",
            "0       65.8        112      30                30       N      1.67   \n",
            "1       71.5        136      19                31       N      1.82   \n",
            "2       69.4        153      45                29       N      1.76   \n",
            "3       68.2        142      22                28       Y      1.73   \n",
            "4       67.8        144      29                24       Y      1.72   \n",
            "\n",
            "   Weight_kg    BMI  Frailty_binary  Age_group_<30  Age_group_30-45  \\\n",
            "0      50.80  18.22               0          False             True   \n",
            "1      61.69  18.62               0           True            False   \n",
            "2      69.40  22.40               0          False             True   \n",
            "3      64.41  21.52               1           True            False   \n",
            "4      65.32  22.08               1           True            False   \n",
            "\n",
            "   Age_group_46-60  Age_group_>60  \n",
            "0            False          False  \n",
            "1            False          False  \n",
            "2            False          False  \n",
            "3            False          False  \n",
            "4            False          False  \n",
            "\n",
            "========================================\n",
            "\n"
          ]
        }
      ]
    },
    {
      "cell_type": "markdown",
      "source": [
        "d. EDA & Reporting\n",
        "i. Compute summary table: mean/median/std for numeric columns; save to finding.md\n",
        "ii. Quantify relation of strength ↔ frailty: compute correlation between Grip_kg\n",
        "and Frailty_binary, and report it."
      ],
      "metadata": {
        "id": "kLquS44_c9zC"
      }
    },
    {
      "cell_type": "code",
      "source": [
        "# ---Stage 3: Anazlye ---\n",
        "# This stage involves computing statistics and generating reports.\n",
        "print(\"--- Stage 3: Anaylize Initiated ---\")\n",
        "\n",
        "# d. EDA & Reporting\n",
        "# Compute summary table (mean/median/std) for all numeric columns.\n",
        "numeric_cols = df.select_dtypes(include=[np.number]).columns\n",
        "summary_table = df[numeric_cols].agg(['mean', 'median', 'std']).round(2)\n",
        "\n",
        "# Convert the summary table to markdown format and save it to a Markdown file\n",
        "summary_table.to_markdown('findings.md')\n",
        "print(\"Summary table created and saved to 'findings.md'\")\n",
        "print(summary_table)\n",
        "print(\"-\" * 20)\n",
        "\n",
        "# ii. Quantify the relationship between grip strength and frailty\n",
        "# Compute the Pearson correlation coefficient\n",
        "correlation = df['Grip_strength_kg'].corr(df['Frailty_binary'])\n",
        "print(f\"Correlation between Grip Strength and Frailty: {correlation.round(2)}\")\n",
        "print(\"--- Stage 3: Analyze Complete ---\")"
      ],
      "metadata": {
        "id": "htoeAJyA04fv",
        "colab": {
          "base_uri": "https://localhost:8080/"
        },
        "outputId": "1dad09b3-06ab-4045-abea-2a753f6f36bf"
      },
      "execution_count": 75,
      "outputs": [
        {
          "output_type": "stream",
          "name": "stdout",
          "text": [
            "--- Stage 3: Anaylize Initiated ---\n",
            "Summary table created and saved to 'findings.md'\n",
            "        Height_in  Weight_lb  Age_yr  Grip_strength_kg  Height_m  Weight_kg  \\\n",
            "mean        68.60     131.90   32.50             26.00      1.74      59.83   \n",
            "median      68.45     136.00   29.50             27.00      1.74      61.69   \n",
            "std          1.67      14.23   12.86              4.52      0.04       6.46   \n",
            "\n",
            "          BMI  Frailty_binary  \n",
            "mean    19.72            0.40  \n",
            "median  19.15            0.00  \n",
            "std      1.79            0.52  \n",
            "--------------------\n",
            "Correlation between Grip Strength and Frailty: -0.48\n",
            "--- Stage 3: Analyze Complete ---\n"
          ]
        }
      ]
    }
  ]
}